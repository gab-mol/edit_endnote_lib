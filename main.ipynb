{
 "cells": [
  {
   "cell_type": "markdown",
   "metadata": {},
   "source": [
    "# Pipeline: \n",
    "### EndNote Lib. >> .xml >> postgreSQL >> (Búsqueda DOI)+INSERT >> .enw >> EndNote Lib.\n",
    "\n",
    "Control de etapas del *pipeline* para completado de DOI de la biblioteca de EndNote.\n",
    "\n",
    "**Notas:**  \n",
    "..."
   ]
  },
  {
   "cell_type": "markdown",
   "metadata": {},
   "source": [
    "## Módulos"
   ]
  },
  {
   "cell_type": "code",
   "execution_count": 1,
   "metadata": {},
   "outputs": [],
   "source": [
    "import sys\n",
    "import os\n",
    "import io \n",
    "\n",
    "from extraer_desde_xml.extrac_xml_to_df import extr_opc2\n",
    "import carga_posgres.load as db\n",
    "from completar_doi.add_doi import buscar_doi_v0\n",
    "import temporizador as temp\n",
    "\n",
    "\n",
    "# Cambiar la codificación de la salida estándar a UTF-8\n",
    "sys.stdout = io.TextIOWrapper(sys.stdout.detach(), encoding='utf-8')\n"
   ]
  },
  {
   "cell_type": "markdown",
   "metadata": {},
   "source": [
    "## Extracción desde .xml\n",
    "El archivo .xml es generado desde EndNote con todos los registros de la biblioteca.  \n",
    "La lógica para la extracción de las referencias almacenadas a registros de un *dataframe* se importa desde [extrac_xml_to_df.py](extraer_desde_xml\\extrac_xml_to_df.py)."
   ]
  },
  {
   "cell_type": "code",
   "execution_count": null,
   "metadata": {},
   "outputs": [],
   "source": [
    "\n",
    "df = extr_opc2('extraer_desde_xml\\Endnote 20-10-22.xml')\n",
    "print(df.head(10))"
   ]
  },
  {
   "cell_type": "markdown",
   "metadata": {},
   "source": [
    "## Carga a base de datos (postgreSQL)\n",
    "Para manipular los datos, estos se cargan en una base de datos relacional. Las operaciones previas necesarias se guardaron en el [Historial completo de Consultas SQL](sql_history.sql).\n",
    "\n",
    "La lógica para la conexión con base de datos y la carga de los registros se importa desde [load.py](carga_posgres\\load.py)."
   ]
  },
  {
   "cell_type": "code",
   "execution_count": null,
   "metadata": {},
   "outputs": [],
   "source": [
    "# Asegurar tabla de destino\n",
    "db.tabla_referencias()\n",
    "\n",
    "# Carga de dataframe a postgres\n",
    "db.load_all(df, True)"
   ]
  },
  {
   "cell_type": "markdown",
   "metadata": {},
   "source": [
    "## Completar DOIs faltantes\n",
    "Las funciones de búsqueda (empleando [API de *Crossref*](https://search.crossref.org/)) se importan desde [add_doi.py](completar_doi\\add_doi.py)\n",
    "\n",
    "Debido a las complicaciones particulares de cada tipo de referencia, este paso se realiza por separado para los **tipo = \"Journal Article\"**."
   ]
  },
  {
   "cell_type": "markdown",
   "metadata": {},
   "source": [
    "### DOIs para registros de \"Journal Article\""
   ]
  },
  {
   "cell_type": "code",
   "execution_count": null,
   "metadata": {},
   "outputs": [],
   "source": [
    "# DOI solo relevante luego de los 2000\n",
    "resp = db.query_sql('''\n",
    "    select nregistro, titulo from endnote.referencias \n",
    "        where \n",
    "            año > 2000 and\n",
    "            doi is null and\n",
    "            tipo = 'Journal Article';\n",
    "''', cerrar = False)\n",
    "\n",
    "df_sindoi = db.registros_a_df(resp, [\"nregistro\", \"titulo\"])\n",
    "\n",
    "titulos = list(df_sindoi['titulo'])\n",
    "\n",
    "def map_doi(tit):\n",
    "    res = buscar_doi_v0(\n",
    "        titulo = tit, \n",
    "        nitems = 10,\n",
    "        terminal= True\n",
    "    )\n",
    "    return res['DOI'] if res else 'no hallado'\n",
    "\n",
    "dois = list(map(lambda t: map_doi(t), titulos))\n",
    "df_sindoi.insert(2, \"doi_nuevo\", dois)\n",
    "\n",
    "db.query_sql('''\n",
    "    create table if not exists endnote.busqueda_doi (\n",
    "        nregistro INTEGER NOT NULL PRIMARY KEY,        \n",
    "        titulo VARCHAR(440),\n",
    "        doi_nuevo VARCHAR(125)\n",
    "        );''', \n",
    "        cerrar = False\n",
    ")\n",
    "\n",
    "# INSERTAR en tabla \"busqueda_doi\"\n",
    "\n",
    "db.load_to(df_sindoi, db.ESQUEMA, \"busqueda_doi\")\n",
    "\n",
    "# Pasar a tabla \"referencias\" los DOI descargados\n",
    "db.query_sql('''\n",
    "        UPDATE endnote.referencias r\n",
    "        SET doi = bd.doi_nuevo\n",
    "        from   (select nregistro, doi_nuevo\n",
    "                from endnote.busqueda_doi\n",
    "                where doi_nuevo != 'no hallado') as bd\n",
    "        where \n",
    "                bd.nregistro = r.nregistro;''', \n",
    "        cerrar = False\n",
    ")\n"
   ]
  },
  {
   "cell_type": "markdown",
   "metadata": {},
   "source": [
    "## Creación de "
   ]
  }
 ],
 "metadata": {
  "kernelspec": {
   "display_name": "Python 3",
   "language": "python",
   "name": "python3"
  },
  "language_info": {
   "codemirror_mode": {
    "name": "ipython",
    "version": 3
   },
   "file_extension": ".py",
   "mimetype": "text/x-python",
   "name": "python",
   "nbconvert_exporter": "python",
   "pygments_lexer": "ipython3",
   "version": "3.10.6"
  }
 },
 "nbformat": 4,
 "nbformat_minor": 2
}
